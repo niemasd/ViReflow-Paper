{
 "cells": [
  {
   "cell_type": "markdown",
   "metadata": {},
   "source": [
    "### Imports and Definitions"
   ]
  },
  {
   "cell_type": "code",
   "execution_count": 1,
   "metadata": {},
   "outputs": [],
   "source": [
    "from csv import reader\n",
    "from glob import glob\n",
    "from math import log10\n",
    "from matplotlib import rcParams\n",
    "from os import makedirs\n",
    "from os.path import isfile\n",
    "from seaborn import pointplot, set_context, set_style, violinplot\n",
    "import matplotlib.pyplot as plt\n",
    "ZERO_THRESH = 0.0000000001\n",
    "DATADIR = '../data'\n",
    "FIGDIR = '../figs'; makedirs(FIGDIR, exist_ok=True)\n",
    "RC = {\"font.size\":12,\"axes.titlesize\":16,\"axes.labelsize\":14,\"legend.fontsize\":10,\"xtick.labelsize\":10,\"ytick.labelsize\":10}\n",
    "set_context(\"paper\", rc=RC); set_style(\"ticks\"); rcParams['font.family'] = 'serif'\n",
    "rcParams['patch.edgecolor'] = '4C4C4C' # set boxenplot outlines same as violinplot"
   ]
  },
  {
   "cell_type": "markdown",
   "metadata": {},
   "source": [
    "### Helper: Convert Power of 10 to Scientific Notation"
   ]
  },
  {
   "cell_type": "code",
   "execution_count": 2,
   "metadata": {},
   "outputs": [],
   "source": [
    "def sci_not_mult10(n):\n",
    "    p = log10(n)\n",
    "    assert abs(p-int(p)) < ZERO_THRESH, \"Not a power of 10: %s\" % n\n",
    "    return r'$10^%d$' % p"
   ]
  },
  {
   "cell_type": "markdown",
   "metadata": {},
   "source": [
    "### Helper: Get Walltime from GNU `time` Output"
   ]
  },
  {
   "cell_type": "code",
   "execution_count": 3,
   "metadata": {},
   "outputs": [],
   "source": [
    "def walltime_from_time(path):\n",
    "    tl = [l.strip().split()[-1].strip() for l in open(path) if l.startswith('real')]\n",
    "    assert len(tl) == 1, \"Multiple lines starting with 'real' in: %s\" % path\n",
    "    m = int(tl[0].split('m')[0])\n",
    "    s = float(tl[0].split('m')[1].rstrip('s'))\n",
    "    return 60*m + s"
   ]
  },
  {
   "cell_type": "markdown",
   "metadata": {},
   "source": [
    "### Plot Runtime vs. *n*"
   ]
  },
  {
   "cell_type": "code",
   "execution_count": 4,
   "metadata": {},
   "outputs": [
    {
     "data": {
      "image/png": "[encoded data removed]",
      "text/plain": [
       "<Figure size 432x288 with 1 Axes>"
      ]
     },
     "metadata": {},
     "output_type": "display_data"
    }
   ],
   "source": [
    "# load benchmarking runtimes\n",
    "time_vs_n_data = {'n':list(), 'time':list()}\n",
    "for ndir in glob('%s/sarscov2/n*' % DATADIR):\n",
    "    n = int(ndir.split('/')[-1].lstrip('n'))\n",
    "    for rdir in glob('%s/r*' % ndir):\n",
    "        if isfile('%s/time.txt' % rdir):\n",
    "            time_vs_n_data['n'].append(sci_not_mult10(n))\n",
    "            time_vs_n_data['time'].append(walltime_from_time('%s/time.txt' % rdir))\n",
    "\n",
    "# generate plot\n",
    "fig = plt.figure()\n",
    "pointplot(x=time_vs_n_data['n'], y=time_vs_n_data['time'], linestyles='--', color='grey')\n",
    "violinplot(x=time_vs_n_data['n'], y=time_vs_n_data['time'], color='grey')\n",
    "plt.xlabel('Number of Samples')\n",
    "plt.ylabel('Runtime (seconds)')\n",
    "fig.savefig('%s/runtime.pdf' % FIGDIR, format='pdf', bbox_inches='tight')"
   ]
  },
  {
   "cell_type": "markdown",
   "metadata": {},
   "source": [
    "### Plot Cost vs. *n*"
   ]
  },
  {
   "cell_type": "code",
   "execution_count": 5,
   "metadata": {},
   "outputs": [
    {
     "ename": "AssertionError",
     "evalue": "Instance not found: i-0ee3d842e357eb73e",
     "output_type": "error",
     "traceback": [
      "\u001b[0;31m---------------------------------------------------------------------------\u001b[0m",
      "\u001b[0;31mAssertionError\u001b[0m                            Traceback (most recent call last)",
      "\u001b[0;32m<ipython-input-5-1f02ce848b5c>\u001b[0m in \u001b[0;36m<module>\u001b[0;34m\u001b[0m\n\u001b[1;32m     21\u001b[0m         \u001b[0mcost\u001b[0m \u001b[0;34m=\u001b[0m \u001b[0;36m0\u001b[0m\u001b[0;34m\u001b[0m\u001b[0;34m\u001b[0m\u001b[0m\n\u001b[1;32m     22\u001b[0m         \u001b[0;32mfor\u001b[0m \u001b[0minstanceID\u001b[0m \u001b[0;32min\u001b[0m \u001b[0minstances\u001b[0m\u001b[0;34m:\u001b[0m\u001b[0;34m\u001b[0m\u001b[0;34m\u001b[0m\u001b[0m\n\u001b[0;32m---> 23\u001b[0;31m             \u001b[0;32massert\u001b[0m \u001b[0minstanceID\u001b[0m \u001b[0;32min\u001b[0m \u001b[0minstance_cost\u001b[0m\u001b[0;34m,\u001b[0m \u001b[0;34m\"Instance not found: %s\"\u001b[0m \u001b[0;34m%\u001b[0m \u001b[0minstanceID\u001b[0m\u001b[0;34m\u001b[0m\u001b[0;34m\u001b[0m\u001b[0m\n\u001b[0m\u001b[1;32m     24\u001b[0m             \u001b[0mcost\u001b[0m \u001b[0;34m+=\u001b[0m \u001b[0minstance_cost\u001b[0m\u001b[0;34m[\u001b[0m\u001b[0minstanceID\u001b[0m\u001b[0;34m]\u001b[0m\u001b[0;34m\u001b[0m\u001b[0;34m\u001b[0m\u001b[0m\n\u001b[1;32m     25\u001b[0m         \u001b[0mcost_vs_n_data\u001b[0m\u001b[0;34m[\u001b[0m\u001b[0;34m'n'\u001b[0m\u001b[0;34m]\u001b[0m\u001b[0;34m.\u001b[0m\u001b[0mappend\u001b[0m\u001b[0;34m(\u001b[0m\u001b[0msci_not_mult10\u001b[0m\u001b[0;34m(\u001b[0m\u001b[0mn\u001b[0m\u001b[0;34m)\u001b[0m\u001b[0;34m)\u001b[0m\u001b[0;34m\u001b[0m\u001b[0;34m\u001b[0m\u001b[0m\n",
      "\u001b[0;31mAssertionError\u001b[0m: Instance not found: i-0ee3d842e357eb73e"
     ]
    }
   ],
   "source": [
    "# load all Reflow instance costs\n",
    "instance_cost = dict()\n",
    "for costfn in glob('%s/sarscov2/costs/AWS_ANALYZE*.csv' % DATADIR):\n",
    "    for row in reader(open(costfn)):\n",
    "        if len(row) != 0 and row[0].startswith('niema (reflow)'):\n",
    "            instanceID = row[0].split(' (')[-1].rstrip(')')\n",
    "            cost = float(row[-1])\n",
    "            if instanceID in instance_cost:\n",
    "                instance_cost[instanceID] = max(cost, instance_cost[instanceID])\n",
    "            else:\n",
    "                instance_cost[instanceID] = cost\n",
    "\n",
    "# load benchmarking costs\n",
    "cost_vs_n_data = {'n':list(), 'usd':list()}\n",
    "for ndir in glob('%s/sarscov2/n*' % DATADIR):\n",
    "    n = int(ndir.split('/')[-1].lstrip('n'))\n",
    "    for rdir in glob('%s/r*' % ndir):\n",
    "        if rdir.endswith('.zip'):\n",
    "            continue\n",
    "        instances = [l.split(' ')[4].strip() for l in open(list(glob('%s/reflow_logs/*.syslog' % rdir))[0]) if ' discovered instance ' in l]\n",
    "        cost = 0\n",
    "        for instanceID in instances:\n",
    "            assert instanceID in instance_cost, \"Instance not found: %s\" % instanceID\n",
    "            cost += instance_cost[instanceID]\n",
    "        cost_vs_n_data['n'].append(sci_not_mult10(n))\n",
    "        cost_vs_n_data['usd'].append(cost)\n",
    "        \n",
    "\n",
    "# generate plot\n",
    "fig = plt.figure()\n",
    "pointplot(x=time_vs_n_data['n'], y=time_vs_n_data['time'], linestyles='--', color='grey')\n",
    "violinplot(x=time_vs_n_data['n'], y=time_vs_n_data['time'], color='grey')\n",
    "plt.xlabel('Number of Samples')\n",
    "plt.ylabel('Total Cost (US Dollars)')\n",
    "fig.savefig('%s/cost.pdf' % FIGDIR, format='pdf', bbox_inches='tight')"
   ]
  }
 ],
 "metadata": {
  "kernelspec": {
   "display_name": "Python 3",
   "language": "python",
   "name": "python3"
  },
  "language_info": {
   "codemirror_mode": {
    "name": "ipython",
    "version": 3
   },
   "file_extension": ".py",
   "mimetype": "text/x-python",
   "name": "python",
   "nbconvert_exporter": "python",
   "pygments_lexer": "ipython3",
   "version": "3.6.9"
  }
 },
 "nbformat": 4,
 "nbformat_minor": 4
}
